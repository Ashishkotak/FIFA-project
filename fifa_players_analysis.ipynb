{
 "cells": [
  {
   "cell_type": "code",
   "execution_count": null,
   "id": "36d828d6",
   "metadata": {},
   "outputs": [],
   "source": [
    "import pandas as pd\n",
    "import numpy as np"
   ]
  },
  {
   "cell_type": "code",
   "execution_count": null,
   "id": "85869643",
   "metadata": {},
   "outputs": [],
   "source": [
    "players=pd.read_csv(r'C:\\Users\\aashi\\Desktop\\data analysis\\projects\\fifa world cup project\\worldcupplayers.csv')"
   ]
  },
  {
   "cell_type": "code",
   "execution_count": null,
   "id": "9b0ceb62",
   "metadata": {},
   "outputs": [],
   "source": [
    "players.head(2)"
   ]
  },
  {
   "cell_type": "markdown",
   "id": "ae564b6d",
   "metadata": {},
   "source": [
    "RENAMING COLUMNS"
   ]
  },
  {
   "cell_type": "code",
   "execution_count": null,
   "id": "0c5e68fd",
   "metadata": {},
   "outputs": [],
   "source": [
    "players.rename(columns={'Team Initials':'team_initials','Coach Name':'coach_name','Line-up':'line_up','Shirt Number':'shirt_number','Player Name':'player_name'},inplace=True)"
   ]
  },
  {
   "cell_type": "markdown",
   "id": "592e429e",
   "metadata": {},
   "source": [
    "GETTING MATCHES PLAYED BY EACH PLAYER"
   ]
  },
  {
   "cell_type": "code",
   "execution_count": null,
   "id": "9bf52751",
   "metadata": {},
   "outputs": [],
   "source": [
    "matches_played=players.groupby(['player_name'])['MatchID'].apply(lambda x: len(list(np.unique(x)))) #.rename(={'MatchID':'matches'})"
   ]
  },
  {
   "cell_type": "code",
   "execution_count": null,
   "id": "ee1933e9",
   "metadata": {},
   "outputs": [],
   "source": [
    "matches_played.head(3)"
   ]
  },
  {
   "cell_type": "code",
   "execution_count": null,
   "id": "8a72f5e6",
   "metadata": {},
   "outputs": [],
   "source": [
    "players=pd.merge(players,matches_played,on = 'player_name')"
   ]
  },
  {
   "cell_type": "code",
   "execution_count": null,
   "id": "a540a6e0",
   "metadata": {},
   "outputs": [],
   "source": [
    "players.head(5)"
   ]
  },
  {
   "cell_type": "code",
   "execution_count": null,
   "id": "ed99651b",
   "metadata": {},
   "outputs": [],
   "source": [
    "players.rename(columns={'MatchID_y':'matches'},inplace=True)"
   ]
  },
  {
   "cell_type": "code",
   "execution_count": null,
   "id": "e7eea700",
   "metadata": {},
   "outputs": [],
   "source": [
    "players.Event.unique()"
   ]
  },
  {
   "cell_type": "markdown",
   "id": "60387d91",
   "metadata": {},
   "source": [
    "FILLING NaN VALUES WITH BLANK IN EVENT"
   ]
  },
  {
   "cell_type": "code",
   "execution_count": null,
   "id": "ce1c7dac",
   "metadata": {},
   "outputs": [],
   "source": [
    "players.Event.fillna(' ',inplace=True)"
   ]
  },
  {
   "cell_type": "code",
   "execution_count": null,
   "id": "86571356",
   "metadata": {},
   "outputs": [],
   "source": [
    "players.head(30)"
   ]
  },
  {
   "cell_type": "markdown",
   "id": "d5d500b7",
   "metadata": {},
   "source": [
    "# getting goals scored by players from event column"
   ]
  },
  {
   "cell_type": "markdown",
   "id": "b07c7e96",
   "metadata": {},
   "source": [
    " FUNCTIONS TO RETRIEVE DATA OF GOALS ,PENALTIES,SUBSTITUTION,YELLOW CARD,RED CARD"
   ]
  },
  {
   "cell_type": "code",
   "execution_count": null,
   "id": "1222cf1a",
   "metadata": {},
   "outputs": [],
   "source": [
    "def get_goals_scored(event):\n",
    "    i=0\n",
    "    goals=0\n",
    "    for i in range(len(event)):\n",
    "        if event[i]=='G' or event[i]=='P':\n",
    "            goals=goals+1\n",
    "    return goals        \n",
    "\n",
    "def get_penalties_scored(event):\n",
    "    i=0\n",
    "    penalty_goals=0\n",
    "    for i in range(len(event)):\n",
    "        if event[i]=='P':\n",
    "            penalty_goals=penalty_goals+1\n",
    "    return penalty_goals        \n",
    "\n",
    "def get_yellow_card_received(event):\n",
    "    i=0\n",
    "    yellow_card=0\n",
    "    for i in range(len(event)):\n",
    "        if event[i]=='Y':\n",
    "            yellow_card=yellow_card+1\n",
    "    return yellow_card        \n",
    "\n",
    "def get_red_card_received(event):\n",
    "    i=0\n",
    "    red_card=0\n",
    "    for i in range(len(event)):\n",
    "        if event[i]=='R' or event[i]=='SY':\n",
    "            red_card=red_card+1\n",
    "    return red_card        \n",
    "\n",
    "def get_own_goal_scored(event):\n",
    "    i=0\n",
    "    own_goal=0\n",
    "    for i in range(len(event)):\n",
    "        if event[i]=='W':\n",
    "            own_goal=own_goal+1\n",
    "    return own_goal        \n",
    "\n",
    "def get_substituted_in_at_half_time(event):\n",
    "    i=0\n",
    "    substituted_in=0\n",
    "    for i in range(len(event)):\n",
    "        if event[i]=='IH':\n",
    "            substituted_in=substituted_in+1\n",
    "    return substituted_in        \n",
    "\n",
    "def get_substituted_out_at_half_time(event):\n",
    "    i=0\n",
    "    substituted_out=0\n",
    "    for i in range(len(event)):\n",
    "        if event[i]=='OH':\n",
    "            substituted_out=substituted_out+1\n",
    "    return substituted_out        "
   ]
  },
  {
   "cell_type": "code",
   "execution_count": null,
   "id": "c16701aa",
   "metadata": {},
   "outputs": [],
   "source": [
    "players['goals_scored']=players.apply(lambda x:get_goals_scored(x['Event']),axis = 1)"
   ]
  },
  {
   "cell_type": "code",
   "execution_count": null,
   "id": "90ed38dd",
   "metadata": {},
   "outputs": [],
   "source": [
    "players['penalties_scored']=players.apply(lambda x:get_penalties_scored(x['Event']),axis = 1)\n",
    "players['own_goals_scored']=players.apply(lambda x:get_own_goal_scored(x['Event']),axis = 1)\n",
    "players['yellow_cards_received']=players.apply(lambda x:get_yellow_card_received(x['Event']),axis = 1)\n",
    "players['red_cards_received']=players.apply(lambda x:get_red_card_received(x['Event']),axis = 1)\n",
    "players['substitued_in_at_half_time']=players.apply(lambda x:get_substituted_in_at_half_time(x['Event']),axis = 1)\n",
    "players['substitued_out_at_half_time']=players.apply(lambda x:get_substituted_out_at_half_time(x['Event']),axis = 1)"
   ]
  },
  {
   "cell_type": "code",
   "execution_count": null,
   "id": "267997df",
   "metadata": {},
   "outputs": [],
   "source": [
    "pd.set_option('display.max_columns',None)"
   ]
  },
  {
   "cell_type": "code",
   "execution_count": null,
   "id": "26eee382",
   "metadata": {},
   "outputs": [],
   "source": [
    "players.head(60)"
   ]
  },
  {
   "cell_type": "markdown",
   "id": "cb5097c9",
   "metadata": {},
   "source": [
    "FILLING NaN VALUES IN POSITION WITH BLANKS"
   ]
  },
  {
   "cell_type": "code",
   "execution_count": null,
   "id": "a7788b7b",
   "metadata": {},
   "outputs": [],
   "source": [
    "players.Position.fillna(' ',inplace=True)"
   ]
  },
  {
   "cell_type": "code",
   "execution_count": null,
   "id": "ff6b4465",
   "metadata": {},
   "outputs": [],
   "source": [
    "players.head(20)"
   ]
  },
  {
   "cell_type": "code",
   "execution_count": null,
   "id": "43530669",
   "metadata": {},
   "outputs": [],
   "source": [
    "players.rename(columns={'MatchID_x':'MatchID'},inplace=True)"
   ]
  },
  {
   "cell_type": "code",
   "execution_count": null,
   "id": "4a84a885",
   "metadata": {},
   "outputs": [],
   "source": [
    "pd.set_option('display.max_rows',None)"
   ]
  },
  {
   "cell_type": "code",
   "execution_count": null,
   "id": "3d9015cc",
   "metadata": {},
   "outputs": [],
   "source": [
    "players.head(15)"
   ]
  }
 ],
 "metadata": {
  "kernelspec": {
   "display_name": "Python 3",
   "language": "python",
   "name": "python3"
  },
  "language_info": {
   "codemirror_mode": {
    "name": "ipython",
    "version": 3
   },
   "file_extension": ".py",
   "mimetype": "text/x-python",
   "name": "python",
   "nbconvert_exporter": "python",
   "pygments_lexer": "ipython3",
   "version": "3.8.8"
  }
 },
 "nbformat": 4,
 "nbformat_minor": 5
}
